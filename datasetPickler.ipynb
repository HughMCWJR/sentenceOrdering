{
 "cells": [
  {
   "cell_type": "code",
   "execution_count": 6,
   "id": "21fc110f",
   "metadata": {},
   "outputs": [
    {
     "name": "stderr",
     "output_type": "stream",
     "text": [
      "Found cached dataset cnn_dailymail (/home/hugh/.cache/huggingface/datasets/cnn_dailymail/3.0.0/3.0.0/1b3c71476f6d152c31c1730e83ccb08bcf23e348233f4fcc11e182248e6bf7de)\n"
     ]
    },
    {
     "data": {
      "application/vnd.jupyter.widget-view+json": {
       "model_id": "795d972b939a4401b6b380c57df9378c",
       "version_major": 2,
       "version_minor": 0
      },
      "text/plain": [
       "  0%|          | 0/3 [00:00<?, ?it/s]"
      ]
     },
     "metadata": {},
     "output_type": "display_data"
    }
   ],
   "source": [
    "# Get cnn_dailymail dataset\n",
    "\n",
    "from datasets import load_dataset\n",
    "\n",
    "dataset = load_dataset(\"cnn_dailymail\", '3.0.0')"
   ]
  },
  {
   "cell_type": "code",
   "execution_count": 7,
   "id": "346cd3bb",
   "metadata": {},
   "outputs": [],
   "source": [
    "# Set reordering function using Bart\n",
    "import nltk\n",
    "from nltk.tokenize import TreebankWordTokenizer\n",
    "\n",
    "# Hyperparamers: MIN_TOKEN_LENGTH, MAX_TOKEN_LENGTH,\n",
    "MIN_TOKEN_LENGTH = 300\n",
    "MAX_TOKEN_LENGTH = 700\n",
    "\n",
    "# Get number of tokens using nltk so dataset only uses articles with few tokens\n",
    "def getNumTokens(inputArticle):\n",
    "    tokenizer = TreebankWordTokenizer()\n",
    "    return len(tokenizer.tokenize(inputArticle))"
   ]
  },
  {
   "cell_type": "code",
   "execution_count": 8,
   "id": "cdf4b14e",
   "metadata": {},
   "outputs": [],
   "source": [
    "# Create batches\n",
    "\n",
    "dataset = dataset[\"test\"][\"article\"]\n",
    "\n",
    "batchSize = 64\n",
    "numBatches = 30\n",
    "\n",
    "batches = []\n",
    "\n",
    "index = 0\n",
    "\n",
    "for i in range(numBatches):\n",
    "    batches.append([])\n",
    "    \n",
    "    while len(batches[-1]) < batchSize:\n",
    "        \n",
    "        article = dataset[index]\n",
    "        index += 1\n",
    "    \n",
    "        length = getNumTokens(article)\n",
    "        if length > MAX_TOKEN_LENGTH or length < MIN_TOKEN_LENGTH:\n",
    "            continue\n",
    "            \n",
    "        batches[-1].append(article)\n",
    "    "
   ]
  },
  {
   "cell_type": "code",
   "execution_count": 10,
   "id": "4799bcd2",
   "metadata": {},
   "outputs": [],
   "source": [
    "# Pickle\n",
    "import pickle\n",
    "\n",
    "with open('dailymail.pkl', 'wb') as f:  # open a text file\n",
    "    pickle.dump(batches, f) # serialize the list"
   ]
  },
  {
   "cell_type": "code",
   "execution_count": null,
   "id": "5a5f499a",
   "metadata": {},
   "outputs": [],
   "source": []
  }
 ],
 "metadata": {
  "kernelspec": {
   "display_name": "encoderDecoder",
   "language": "python",
   "name": "encoderdecoder"
  },
  "language_info": {
   "codemirror_mode": {
    "name": "ipython",
    "version": 3
   },
   "file_extension": ".py",
   "mimetype": "text/x-python",
   "name": "python",
   "nbconvert_exporter": "python",
   "pygments_lexer": "ipython3",
   "version": "3.9.16"
  }
 },
 "nbformat": 4,
 "nbformat_minor": 5
}
